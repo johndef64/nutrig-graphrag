{
  "cells": [
    {
      "cell_type": "code",
      "execution_count": null,
      "metadata": {
        "id": "DTtgAV8RtWiO"
      },
      "outputs": [],
      "source": [
        "import os\n",
        "import json\n",
        "import logging\n",
        "import numpy as np"
      ]
    },
    {
      "cell_type": "code",
      "execution_count": null,
      "metadata": {
        "id": "Qns5kcqhtSK4"
      },
      "outputs": [],
      "source": [
        "def load_json_from_lib(nome_file, local = False):\n",
        "    # Usa __file__ per ottenere il percorso della directory del file corrente\n",
        "    if not local:\n",
        "        file_path = os.path.join(os.path.dirname(__file__), nome_file)\n",
        "    else:\n",
        "        file_path = nome_file\n",
        "    with open(file_path, 'r') as file:\n",
        "        return json.load(file)"
      ]
    },
    {
      "cell_type": "code",
      "execution_count": null,
      "metadata": {},
      "outputs": [],
      "source": [
        "import sys\n",
        "import os\n",
        "\n",
        "# Append the parent directory to sys.path\n",
        "sys.path.append(os.path.abspath('..'))\n",
        "\n",
        "# Now you can import the module\n",
        "from llm_utils import api_keys\n",
        "api_keys"
      ]
    },
    {
      "cell_type": "code",
      "execution_count": null,
      "metadata": {
        "id": "bFiydk4rsvf2"
      },
      "outputs": [],
      "source": [
        "print(\"\\n\\n<<<<<<<<<<<<< No-RAG Reply >>>>>>>>>>>>>>>\")\n",
        "GROQ_API_KEY = api_keys[\"groq\"]\n",
        "MODEL = \"meta-llama/llama-4-scout-17b-16e-instruct\"\n",
        "# MODEL = \"llama-3.1-8b-instant\"\n",
        "\n",
        "# Test Native LLM response\n",
        "from groq import Groq\n",
        "\n",
        "client = Groq(api_key=GROQ_API_KEY)\n",
        "question = \"What is the capital of France?\"\n",
        "\n",
        "response = client.chat.completions.create(\n",
        "    model=MODEL,\n",
        "    messages=[\n",
        "        {\"role\": \"system\", \"content\": \"You are a helpful assistant\"},\n",
        "        {\"role\": \"user\", \"content\": question},\n",
        "    ],\n",
        "    stream=False\n",
        ")\n",
        "\n",
        "print(response.choices[0].message.content)\n",
        "print(\"<<< ----------------- >>>\")"
      ]
    },
    {
      "cell_type": "markdown",
      "metadata": {
        "id": "NYhnzH9MwJIQ"
      },
      "source": [
        "# Data Preparation"
      ]
    },
    {
      "cell_type": "code",
      "execution_count": null,
      "metadata": {
        "colab": {
          "base_uri": "https://localhost:8080/"
        },
        "id": "jXwQjuGgwMt_",
        "outputId": "bb8c5a54-93a4-42de-fbf2-cf5e60fdd2f4"
      },
      "outputs": [],
      "source": [
        "!pip install groq"
      ]
    },
    {
      "cell_type": "code",
      "execution_count": null,
      "metadata": {
        "colab": {
          "base_uri": "https://localhost:8080/",
          "height": 736
        },
        "id": "HdcXYTT9xL9d",
        "outputId": "bab24612-2c89-43cb-bfce-6f6a847a3312"
      },
      "outputs": [],
      "source": [
        "import pandas as pd\n",
        "\n",
        "dataset_df = pd.read_csv(\"../datasets/working_dataset_1000.csv\")\n",
        "dataset_df"
      ]
    },
    {
      "cell_type": "code",
      "execution_count": null,
      "metadata": {
        "colab": {
          "base_uri": "https://localhost:8080/"
        },
        "id": "lT7cgCqkzAlK",
        "outputId": "7d729827-73a2-4339-cb2f-8f00c8d9b3d4"
      },
      "outputs": [],
      "source": [
        "dataset_df['TOPIC_LABEL'].unique()"
      ]
    },
    {
      "cell_type": "code",
      "execution_count": null,
      "metadata": {
        "id": "jf7YePG1xZF1"
      },
      "outputs": [],
      "source": [
        "# df_FOODAL = dataset_df[dataset_df[\"TOPIC_LABEL\"] == [\"FOODAL\"]]\n",
        "# df_OBWCCE = dataset_df[dataset_df[\"TOPIC_LABEL\"] == [\"OBWCCE\"]]\n",
        "# df_EATBTS = dataset_df[dataset_df[\"TOPIC_LABEL\"] == [\"EATBTS\"]]\n",
        "\n",
        "df_FOODAL = dataset_df[dataset_df['TOPIC_LABEL'].apply(lambda x: 'FOODAL' in x)]\n",
        "df_OBWCCE = dataset_df[dataset_df['TOPIC_LABEL'].apply(lambda x: 'OBWCCE' in x)]\n",
        "df_EATBTS = dataset_df[dataset_df['TOPIC_LABEL'].apply(lambda x: 'EATBTS' in x)]\n",
        "df_VITMIN = dataset_df[dataset_df['TOPIC_LABEL'].apply(lambda x: 'VITMIN' in x)]\n",
        "df_FOODIN = dataset_df[dataset_df['TOPIC_LABEL'].apply(lambda x: 'FOODIN' in x)]"
      ]
    },
    {
      "cell_type": "code",
      "execution_count": null,
      "metadata": {
        "id": "GB1f-m2LzsoI"
      },
      "outputs": [],
      "source": [
        "working_dir = \"/content/drive/MyDrive/workshop-ECAI/\"\n",
        "working_dir = os.getcwd() + \"/documents_from_working_dataset/\"\n",
        "df_FOODAL.sample(5)['RESULTS'].to_json(working_dir+\"foodal.json\", orient=\"records\")\n",
        "df_OBWCCE.sample(5)['RESULTS'].to_json(working_dir+\"obwcce.json\", orient=\"records\")\n",
        "df_EATBTS.sample(5)['RESULTS'].to_json(working_dir+\"eatbts.json\", orient=\"records\")\n",
        "df_VITMIN.sample(5)['RESULTS'].to_json(working_dir+\"vitmin.json\", orient=\"records\")\n",
        "df_FOODIN.sample(5)['RESULTS'].to_json(working_dir+\"foodin.json\", orient=\"records\")"
      ]
    },
    {
      "cell_type": "code",
      "execution_count": null,
      "metadata": {
        "colab": {
          "base_uri": "https://localhost:8080/"
        },
        "id": "Hz3HMz7oz4qq",
        "outputId": "e27b5a45-8040-46b2-be44-bd2d52b2a96c"
      },
      "outputs": [],
      "source": [
        "# prompt: read a json file and count the element\n",
        "import json\n",
        "\n",
        "working_dir = os.getcwd() + \"/documents_from_working_dataset/\"\n",
        "file_path = working_dir+\"foodal.json\"  # Replace with the actual path to your JSON file\n",
        "\n",
        "with open(file_path, 'r') as file:\n",
        "  data = json.load(file)\n",
        "\n",
        "# Assuming the JSON file contains a list or a dictionary\n",
        "if isinstance(data, list):\n",
        "  element_count = len(data)\n",
        "  print(f\"The JSON file contains {element_count} elements in the list.\")\n",
        "elif isinstance(data, dict):\n",
        "  element_count = len(data)\n",
        "  print(f\"The JSON file contains {element_count} key-value pairs in the dictionary.\")\n",
        "else:\n",
        "  print(\"The JSON file does not contain a list or a dictionary at the top level.\")"
      ]
    },
    {
      "cell_type": "code",
      "execution_count": null,
      "metadata": {
        "id": "Pu8Y_gpD3PiI"
      },
      "outputs": [],
      "source": [
        "role_PROMPT = \"\"\"\n",
        "      You are a helpful assistant responsible for generating evaluation questions\n",
        "      from a given corpus using a structured procedure.\"\"\"\n",
        "goal_PROMPT = \"\"\"\n",
        "      Given a corpus description and the parameters K (number of users), N (number of tasks per user),\n",
        "      and M (number of high-level questions per (user, task) pair), your task is to generate high-level questions\n",
        "      that assess global understanding of the corpus.\n",
        "      \"\"\"\n",
        "generation_step_PROMPT = \"\"\"\n",
        "      Your generation should follow these steps:\n",
        "      1. Create K user personas based on the corpus, including their role/background and motivation for using the corpus.\n",
        "      2. For each user, define N realistic and relevant tasks they would perform using the corpus.\n",
        "      3. For each (user, task) pair, generate M high-level questions that:\n",
        "          - Require comprehensive understanding of the whole corpus.\n",
        "          - Do NOT depend on low-level facts or specific data points (e.g., names, dates, figures).\"\"\"\n",
        "\n",
        "output_PROMPT = \"\"\"\n",
        "      User 1: [Persona description]\n",
        "      Task 1:\n",
        "      Q1. ...\n",
        "      Q2. ...\n",
        "      ...\n",
        "      Task 2:\n",
        "      Q1. ...\n",
        "      ...\n",
        "      User 2: ...\n",
        "      ...\n",
        "      User K: ...\"\"\"\n",
        "\n",
        "output_format_PROMPT = \"\"\"\n",
        "      {{\n",
        "        \"corpus_description\": \"<your summary of the corpus>\",\n",
        "        \"generated_questions\": \"<your structured output as described above>\"\n",
        "      }}\"\"\""
      ]
    },
    {
      "cell_type": "code",
      "execution_count": null,
      "metadata": {
        "id": "GWOHvw762McB"
      },
      "outputs": [],
      "source": [
        "def generate_questions(corpus_description, K, N, M):\n",
        "  PROMPT = f\"\"\"\n",
        "  ---Role--\n",
        "  {role_PROMPT}\n",
        "\n",
        "  ---Goal--\n",
        "  {goal_PROMPT}\n",
        "\n",
        "  {generation_step_PROMPT}\n",
        "\n",
        "  Your output should be structured as follows:\n",
        "  {output_PROMPT}\n",
        "\n",
        "  Format your response as a JSON object with the following structure:\n",
        "  {output_format_PROMPT}\n",
        "\n",
        "  ---Corpus Description--\n",
        "  {corpus_description}\n",
        "  ---Parameters--\n",
        "  Number of Users (K): {K}\n",
        "  Tasks per User (N): {N}\n",
        "  Questions per (User, Task) (M): {M}\n",
        "\n",
        "  Output:\n",
        "  \"\"\"\n",
        "  return PROMPT"
      ]
    },
    {
      "cell_type": "code",
      "execution_count": null,
      "metadata": {
        "id": "mrSlx6kx9r0k"
      },
      "outputs": [],
      "source": [
        "import os\n",
        "from groq import Groq\n",
        "\n",
        "MODEL = \"meta-llama/llama-4-scout-17b-16e-instruct\"\n",
        "GROQ_API_KEY = \"***\"\n",
        "GROQ_API_KEY = api_keys[\"groq\"]\n",
        "\n",
        "client = Groq(\n",
        "    api_key=GROQ_API_KEY,\n",
        ")"
      ]
    },
    {
      "cell_type": "code",
      "execution_count": null,
      "metadata": {
        "id": "ZX-4q8NbaIgO"
      },
      "outputs": [],
      "source": [
        "with open('/content/drive/MyDrive/workshop-ECAI/groq_api.txt', 'w') as f:\n",
        "  f.write(GROQ_API_KEY)"
      ]
    },
    {
      "cell_type": "code",
      "execution_count": null,
      "metadata": {
        "id": "kuSS3c27Lx-P"
      },
      "outputs": [],
      "source": [
        "working_dir = \"/content/drive/MyDrive/workshop-ECAI/\"\n",
        "working_dir = os.getcwd() + \"/documents_from_working_dataset/\"\n",
        "foodal_docs = json.load(open(working_dir+\"foodal.json\"))\n",
        "obwcce_docs = json.load(open(working_dir+\"obwcce.json\"))\n",
        "eatbts_docs = json.load(open(working_dir+\"eatbts.json\"))\n",
        "vitmin_docs = json.load(open(working_dir+\"vitmin.json\"))\n",
        "foodin_docs = json.load(open(working_dir+\"foodin.json\"))"
      ]
    },
    {
      "cell_type": "code",
      "execution_count": null,
      "metadata": {
        "colab": {
          "base_uri": "https://localhost:8080/"
        },
        "id": "mcZLpQPYMAy_",
        "outputId": "9b998198-7c31-4e35-bfde-6885b91ebb12"
      },
      "outputs": [],
      "source": [
        "corpus_description_PROMPT = f\"\"\"\n",
        "---Role--\n",
        "You are a helpful assistant tasked with generating a description of a corpus based on the results of 5 randomly selected academic papers.\n",
        "\n",
        "---Goal--\n",
        "Given a set of 5 academic papers, your task is to summarize the key findings from each paper and combine this information into a coherent corpus description. The description should highlight common themes, methodologies used, and major conclusions drawn across the papers.\n",
        "\n",
        "---Papers---\n",
        "1. {foodin_docs[0]}\n",
        "2. {foodin_docs[1]}\n",
        "3. {foodin_docs[2]}\n",
        "4. {foodin_docs[3]}\n",
        "5. {foodin_docs[4]}\n",
        "\n",
        "---Instructions---\n",
        "For each paper:\n",
        "- Briefly summarize the study's objective.\n",
        "- Describe the methodology used.\n",
        "- List the main findings or results.\n",
        "\n",
        "After analyzing all 5 papers:\n",
        "- Identify common themes across the papers.\n",
        "- Highlight any significant differences in methodologies or results.\n",
        "- Provide an overall description of the corpus that reflects the combined knowledge and insights from the papers.\n",
        "\n",
        "---Output Format---\n",
        "Return your response as a single text object with the following structure:\n",
        "\n",
        "<Detailed description of the corpus based on the 5 papers>\n",
        "\n",
        "---Output---\n",
        "\n",
        "\"\"\"\n",
        "\n",
        "\n",
        "chat_completion = client.chat.completions.create(\n",
        "    messages=[\n",
        "        {\n",
        "            \"role\": \"user\",\n",
        "            \"content\": corpus_description_PROMPT\n",
        "        }\n",
        "    ],\n",
        "    model=MODEL,\n",
        ")\n",
        "\n",
        "answer = chat_completion.choices[0].message.content\n",
        "\n",
        "print(answer)"
      ]
    },
    {
      "cell_type": "code",
      "execution_count": null,
      "metadata": {
        "colab": {
          "base_uri": "https://localhost:8080/"
        },
        "id": "SPLKFSSNN7UB",
        "outputId": "d242af07-e6b7-4bd7-93c4-a35892f47cda"
      },
      "outputs": [],
      "source": [
        "# prompt: write the foodal_answer in a file text in my folder in drive\n",
        "\n",
        "corpus_description = answer.split(\"SNVs, indels, and copy number variants.\\n\\n\")[1]\n",
        "print(corpus_description)\n",
        "\n",
        "with open(working_dir+'foodin_answer.txt', 'w') as f:\n",
        "  f.write(corpus_description)"
      ]
    },
    {
      "cell_type": "markdown",
      "metadata": {
        "id": "XbgL0ElyQyAP"
      },
      "source": [
        "# Question Generation"
      ]
    },
    {
      "cell_type": "code",
      "execution_count": null,
      "metadata": {
        "colab": {
          "base_uri": "https://localhost:8080/"
        },
        "id": "P2O_-ffVwK43",
        "outputId": "b631ebbc-d9e2-4ba7-cbb2-2c0f23f9d4bf"
      },
      "outputs": [],
      "source": [
        "K = 3\n",
        "N = 5\n",
        "M = 5\n",
        "working_dir = \"/content/drive/MyDrive/workshop-ECAI/\"\n",
        "working_dir = os.getcwd() + \"/documents_from_working_dataset/\"\n",
        "with open(working_dir+'foodin_answer.txt', 'r') as file:\n",
        "  corpus_description = file.read()\n",
        "\n",
        "prompt = generate_questions(corpus_description, K, N, M)\n",
        "\n",
        "chat_completion = client.chat.completions.create(\n",
        "    messages=[\n",
        "        {\n",
        "            \"role\": \"user\",\n",
        "            \"content\": prompt\n",
        "        }\n",
        "    ],\n",
        "    model=MODEL,\n",
        ")\n",
        "\n",
        "answer = chat_completion.choices[0].message.content\n",
        "\n",
        "print(answer)"
      ]
    },
    {
      "cell_type": "code",
      "execution_count": null,
      "metadata": {
        "id": "aHJQboBD1UiL"
      },
      "outputs": [],
      "source": [
        "question_dir = os.getcwd() + \"/questions_files/\"\n",
        "with open(question_dir+'foodin_generated_question.txt', 'w') as f:\n",
        "  f.write(answer)"
      ]
    },
    {
      "cell_type": "markdown",
      "metadata": {
        "id": "fK5-N_u6SuSk"
      },
      "source": []
    },
    {
      "cell_type": "markdown",
      "metadata": {
        "id": "82eZDMxeSvn3"
      },
      "source": [
        "# Restructuring questions in a DataFrame\n"
      ]
    },
    {
      "cell_type": "code",
      "execution_count": null,
      "metadata": {
        "id": "ykxVRxq9S1Nc"
      },
      "outputs": [],
      "source": [
        "question_dir = os.getcwd() + \"/questions_files/\"\n",
        "\n",
        "with open(question_dir+'foodal_generated_question.txt', 'r') as file:\n",
        "  foodal_questions = file.read()\n",
        "\n",
        "with open(question_dir+'obwcce_generated_question.txt', 'r') as file:\n",
        "  obwcce_questions = file.read()\n",
        "\n",
        "with open(question_dir+'eatbts_generated_question.txt', 'r') as file:\n",
        "  eatbts_questions = file.read()\n",
        "\n",
        "with open(question_dir+'vitmin_generated_question.txt', 'r') as file:\n",
        "  vitmin_questions = file.read()\n",
        "\n",
        "with open(question_dir+'foodin_generated_question.txt', 'r') as file:\n",
        "  foodin_questions = file.read()"
      ]
    },
    {
      "cell_type": "code",
      "execution_count": null,
      "metadata": {
        "colab": {
          "base_uri": "https://localhost:8080/"
        },
        "collapsed": true,
        "id": "toNX4nt_S9FK",
        "outputId": "89223218-1ff5-44a5-d5a1-4112724ef458"
      },
      "outputs": [],
      "source": [
        "print(foodal_questions)"
      ]
    },
    {
      "cell_type": "code",
      "execution_count": null,
      "metadata": {
        "id": "G0eSkhwcTX0c"
      },
      "outputs": [],
      "source": [
        "import pandas as pd\n",
        "import re\n",
        "\n",
        "# Step 1: Read file as plain text\n",
        "#-- Fatto nella cella sopra per tutti\n",
        "\n",
        "questions = [foodin_questions, foodal_questions, obwcce_questions, eatbts_questions, vitmin_questions]\n",
        "categories = [\"FOODIN\", \"FOODAL\", \"OBWCCE\", \"EATBTS\", \"VITMIN\"]\n",
        "\n",
        "data = {}\n",
        "\n",
        "for i, q in enumerate(questions):\n",
        "\n",
        "    # Step 2: Manually extract the 'generated_questions' content\n",
        "    match = re.search(r'\"generated_questions\"\\s*:\\s*\"(?P<content>.*)\"\\s*}', q, re.DOTALL)\n",
        "    if not match:\n",
        "        raise ValueError(\"Could not find 'generated_questions' content in the file.\")\n",
        "\n",
        "    content = match.group(\"content\")\n",
        "\n",
        "    # Step 3: Unescape escaped quotes and normalize the content\n",
        "    content = content.replace('\\\\\"', '\"')\n",
        "\n",
        "    # Step 4: Parse lines\n",
        "    lines = content.splitlines()\n",
        "\n",
        "\n",
        "    category = categories[i]  # or derive from file name\n",
        "    print(f\"Processing category: {category}\")\n",
        "\n",
        "    rows = []\n",
        "    current_user = None\n",
        "    current_task = None\n",
        "    questions = []\n",
        "\n",
        "    for line in lines:\n",
        "        line = line.strip()\n",
        "        if not line:\n",
        "            continue\n",
        "        if line.startswith(\"User\"):\n",
        "            current_user = line.split(\":\", 1)[1].strip()\n",
        "        elif line.startswith(\"Task\"):\n",
        "            if current_task and questions:\n",
        "                rows.append({\n",
        "                    \"Category\": category,\n",
        "                    \"USER Description\": current_user,\n",
        "                    \"TASK Description\": current_task,\n",
        "                    \"Questions\": questions\n",
        "                })\n",
        "                questions = []\n",
        "            current_task = line.split(\":\", 1)[1].strip()\n",
        "        elif re.match(r\"Q\\d+\\.\", line):\n",
        "            questions.append(line)\n",
        "\n",
        "    # Append the last block\n",
        "    if current_task and questions:\n",
        "        rows.append({\n",
        "            \"Category\": category,\n",
        "            \"USER Description\": current_user,\n",
        "            \"TASK Description\": current_task,\n",
        "            \"Questions\": questions\n",
        "        })\n",
        "    \n",
        "    data[category] = rows\n",
        "\n"
      ]
    },
    {
      "cell_type": "code",
      "execution_count": null,
      "metadata": {
        "colab": {
          "base_uri": "https://localhost:8080/",
          "height": 519
        },
        "id": "bDD92uF_WmmB",
        "outputId": "a41b1874-02fd-46fa-f306-b7a29c263de1"
      },
      "outputs": [],
      "source": [
        "# Step 5: Create DataFrame\n",
        "df_foodal = pd.DataFrame(data[\"FOODAL\"])\n",
        "df_obwcce = pd.DataFrame(data[\"OBWCCE\"])\n",
        "df_eatbts = pd.DataFrame(data[\"EATBTS\"])\n",
        "df_vitmin = pd.DataFrame(data[\"VITMIN\"])\n",
        "df_foodin = pd.DataFrame(data[\"FOODIN\"])\n",
        "df_foodal"
      ]
    },
    {
      "cell_type": "code",
      "execution_count": null,
      "metadata": {
        "id": "RW-UDhrIWnfD"
      },
      "outputs": [],
      "source": [
        "# prompt: append all these dataframe together: df_foodal\n",
        "\n",
        "df_combined = pd.concat([df_foodal, df_obwcce, df_eatbts, df_vitmin, df_foodin], ignore_index=True)"
      ]
    },
    {
      "cell_type": "code",
      "execution_count": 44,
      "metadata": {
        "id": "n3RjtCnBXdco"
      },
      "outputs": [
        {
          "data": {
            "application/vnd.microsoft.datawrangler.viewer.v0+json": {
              "columns": [
                {
                  "name": "index",
                  "rawType": "int64",
                  "type": "integer"
                },
                {
                  "name": "Category",
                  "rawType": "object",
                  "type": "string"
                },
                {
                  "name": "USER Description",
                  "rawType": "object",
                  "type": "string"
                },
                {
                  "name": "TASK Description",
                  "rawType": "object",
                  "type": "string"
                },
                {
                  "name": "Questions",
                  "rawType": "object",
                  "type": "unknown"
                }
              ],
              "ref": "6a47a712-3a48-438c-a31f-1625da25c62a",
              "rows": [
                [
                  "0",
                  "FOODAL",
                  "A clinical researcher interested in vaccine development and personalized medicine.",
                  "Designing a new vaccine trial",
                  "['Q1. What are the key genetic and immunological factors that influence vaccine efficacy across different populations?', 'Q2. How do interindividual variability and environmental factors impact the response to vaccination?', 'Q3. What are the implications of the findings from these studies for the development of personalized vaccine approaches?', 'Q4. How can understanding genetic associations with disease susceptibility inform the design of vaccine trials?', 'Q5. What are the potential therapeutic targets for improving vaccine efficacy based on the insights from this corpus?']"
                ],
                [
                  "1",
                  "FOODAL",
                  "A clinical researcher interested in vaccine development and personalized medicine.",
                  "Analyzing genetic data from a new study",
                  "['Q1. How do the genetic associations with disease susceptibility reported in the corpus inform the interpretation of genetic data from my study?', 'Q2. What are the limitations of using genetic data to predict disease susceptibility, and how can I account for these limitations?', 'Q3. How can I integrate the findings from this corpus into my analysis to better understand the role of genetic factors in disease susceptibility?', 'Q4. What are the potential applications of understanding genetic associations with disease susceptibility in clinical practice?', 'Q5. How do the studies in the corpus account for interindividual variability in genetic data analysis?']"
                ],
                [
                  "2",
                  "FOODAL",
                  "A clinical researcher interested in vaccine development and personalized medicine.",
                  "Developing a new therapeutic approach",
                  "['Q1. What are the key insights from the corpus that can inform the development of novel therapeutic targets?', 'Q2. How do the findings from these studies on immunological responses impact the design of therapeutic approaches?', 'Q3. What are the potential benefits and challenges of targeting genetic and immunological factors in disease treatment?', 'Q4. How can understanding interindividual variability in response to treatment inform the development of personalized medicine approaches?', 'Q5. What are the implications of the corpus findings for the development of combination therapies?']"
                ],
                [
                  "3",
                  "FOODAL",
                  "A clinical researcher interested in vaccine development and personalized medicine.",
                  "Communicating with patients about genetic risks",
                  "['Q1. How can I effectively communicate genetic risk information to patients, taking into account interindividual variability and environmental factors?', 'Q2. What are the key findings from the corpus that I should share with patients to help them understand their genetic risks?', 'Q3. How can I use the insights from this corpus to counsel patients about personalized medicine approaches?', 'Q4. What are the potential psychological and social implications of sharing genetic risk information with patients?', 'Q5. How can I balance the benefits and limitations of genetic testing in clinical practice?']"
                ],
                [
                  "4",
                  "FOODAL",
                  "A genetic epidemiologist interested in understanding the complex interactions between genetic and environmental factors.",
                  "Identifying research gaps",
                  "['Q1. What are the key research gaps in our understanding of genetic and immunological factors in disease susceptibility and response to treatment?', 'Q2. How can the findings from this corpus inform the development of future research studies?', 'Q3. What are the potential areas of investigation that could lead to novel therapeutic targets?', 'Q4. How can we better integrate genetic and environmental factors in future research studies?', 'Q5. What are the implications of the corpus findings for the development of new research methodologies?']"
                ],
                [
                  "5",
                  "FOODAL",
                  "A genetic epidemiologist interested in understanding the complex interactions between genetic and environmental factors.",
                  "Investigating genetic associations with disease susceptibility",
                  "['Q1. What are the key genetic associations with disease susceptibility reported in the corpus, and how do they relate to my own research?', 'Q2. How can I use the findings from these studies to inform my analysis of genetic data?', 'Q3. What are the implications of interindividual variability in genetic associations with disease susceptibility for my research?', 'Q4. How can I integrate environmental factors into my analysis of genetic associations with disease susceptibility?', 'Q5. What are the potential applications of understanding genetic associations with disease susceptibility in public health?']"
                ],
                [
                  "6",
                  "FOODAL",
                  "A genetic epidemiologist interested in understanding the complex interactions between genetic and environmental factors.",
                  "Developing a new genetic testing approach",
                  "['Q1. How can the insights from the corpus inform the development of genetic testing approaches for disease susceptibility?', 'Q2. What are the potential benefits and limitations of using genetic testing to predict disease susceptibility?', 'Q3. How can I use the findings from these studies to inform the interpretation of genetic test results?', 'Q4. What are the implications of the corpus findings for the development of genetic testing guidelines?', 'Q5. How can I balance the benefits and limitations of genetic testing in clinical practice?']"
                ],
                [
                  "7",
                  "FOODAL",
                  "A genetic epidemiologist interested in understanding the complex interactions between genetic and environmental factors.",
                  "Analyzing environmental influences on genetic associations",
                  "['Q1. How do environmental factors influence genetic associations with disease susceptibility, according to the corpus?', 'Q2. What are the key insights from the corpus that can inform my analysis of environmental influences on genetic associations?', 'Q3. How can I integrate the findings from these studies into my analysis to better understand the role of environmental factors?', 'Q4. What are the potential applications of understanding environmental influences on genetic associations in public health?', 'Q5. How do the studies in the corpus account for interindividual variability in environmental influences on genetic associations?']"
                ],
                [
                  "8",
                  "FOODAL",
                  "A genetic epidemiologist interested in understanding the complex interactions between genetic and environmental factors.",
                  "Investigating interindividual variability",
                  "['Q1. What are the key insights from the corpus about interindividual variability in genetic associations with disease susceptibility?', 'Q2. How can I use the findings from these studies to inform my analysis of interindividual variability?', 'Q3. What are the implications of interindividual variability in genetic associations with disease susceptibility for personalized medicine?', 'Q4. How can I integrate the findings from these studies into my analysis to better understand the role of interindividual variability?', 'Q5. What are the potential applications of understanding interindividual variability in genetic associations with disease susceptibility?']"
                ],
                [
                  "9",
                  "FOODAL",
                  "A toxicologist interested in understanding the impact of environmental toxins on human health.",
                  "Communicating with policymakers about genetic research",
                  "['Q1. How can I effectively communicate the findings from genetic research to policymakers, taking into account the complexities of genetic associations with disease susceptibility?', 'Q2. What are the key insights from the corpus that I should share with policymakers to inform public health policy?', 'Q3. How can I use the insights from this corpus to inform policy decisions about genetic testing and personalized medicine?', 'Q4. What are the potential implications of the corpus findings for healthcare policy and resource allocation?', 'Q5. How can I balance the benefits and limitations of genetic research in informing public health policy?']"
                ],
                [
                  "10",
                  "FOODAL",
                  "A toxicologist interested in understanding the impact of environmental toxins on human health.",
                  "Investigating toxicological responses",
                  "['Q1. What are the key insights from the corpus about toxicological responses and their relationship to genetic and immunological factors?', 'Q2. How can I use the findings from these studies to inform my analysis of toxicological responses?', 'Q3. What are the implications of the corpus findings for understanding the impact of environmental toxins on human health?', 'Q4. How can I integrate the findings from these studies into my analysis to better understand the role of genetic and immunological factors in toxicological responses?', 'Q5. What are the potential applications of understanding toxicological responses in risk assessment and regulatory policy?']"
                ],
                [
                  "11",
                  "FOODAL",
                  "A toxicologist interested in understanding the impact of environmental toxins on human health.",
                  "Developing a new toxicological testing approach",
                  "['Q1. How can the insights from the corpus inform the development of new toxicological testing approaches?', 'Q2. What are the potential benefits and limitations of using genetic and immunological factors to predict toxicological responses?', 'Q3. How can I use the findings from these studies to inform the interpretation of toxicological test results?', 'Q4. What are the implications of the corpus findings for the development of toxicological testing guidelines?', 'Q5. How can I balance the benefits and limitations of toxicological testing in regulatory policy?']"
                ],
                [
                  "12",
                  "FOODAL",
                  "A toxicologist interested in understanding the impact of environmental toxins on human health.",
                  "Analyzing gene-environment interactions",
                  "['Q1. How do genetic and environmental factors interact to influence toxicological responses, according to the corpus?', 'Q2. What are the key insights from the corpus that can inform my analysis of gene-environment interactions?', 'Q3. How can I integrate the findings from these studies into my analysis to better understand the role of gene-environment interactions?', 'Q4. What are the potential applications of understanding gene-environment interactions in toxicology?', 'Q5. How do the studies in the corpus account for interindividual variability in gene-environment interactions?']"
                ],
                [
                  "13",
                  "FOODAL",
                  "A toxicologist interested in understanding the impact of environmental toxins on human health.",
                  "Investigating interindividual variability in toxicological responses",
                  "['Q1. What are the key insights from the corpus about interindividual variability in toxicological responses?', 'Q2. How can I use the findings from these studies to inform my analysis of interindividual variability?', 'Q3. What are the implications of interindividual variability in toxicological responses for risk assessment and regulatory policy?', 'Q4. How can I integrate the findings from these studies into my analysis to better understand the role of interindividual variability?', 'Q5. What are the potential applications of understanding interindividual variability in toxicological responses?']"
                ],
                [
                  "14",
                  "FOODAL",
                  "A toxicologist interested in understanding the impact of environmental toxins on human health.",
                  "Communicating with regulatory agencies about toxicological research",
                  "['Q1. How can I effectively communicate the findings from toxicological research to regulatory agencies, taking into account the complexities of gene-environment interactions?', 'Q2. What are the key insights from the corpus that I should share with regulatory agencies to inform policy decisions?', 'Q3. How can I use the insights from this corpus to inform policy decisions about toxicological testing and risk assessment?', 'Q4. What are the potential implications of the corpus findings for regulatory policy and risk management?', 'Q5. How can I balance the benefits and limitations of toxicological research in informing regulatory policy?']"
                ],
                [
                  "15",
                  "OBWCCE",
                  "A researcher in the field of nutrition and genetics, interested in developing personalized dietary recommendations for patients with metabolic disorders.",
                  "Understanding the genetic basis of metabolic disorders",
                  "['Q1. How do genetic variants contribute to the development and progression of metabolic disorders?', 'Q2. What are the implications of genetic variability for the diagnosis and treatment of metabolic disorders?', 'Q3. How can genetic information be used to tailor dietary interventions for individuals with metabolic disorders?', 'Q4. What are the limitations of current genetic research in understanding metabolic disorders?', 'Q5. How can future studies improve our understanding of the genetic basis of metabolic disorders?']"
                ],
                [
                  "16",
                  "OBWCCE",
                  "A researcher in the field of nutrition and genetics, interested in developing personalized dietary recommendations for patients with metabolic disorders.",
                  "Investigating the role of diet in metabolic disorders",
                  "['Q1. What is the relationship between dietary factors and the development of metabolic disorders?', 'Q2. How can dietary interventions be used to manage metabolic disorders?', 'Q3. What are the challenges in developing effective dietary recommendations for individuals with metabolic disorders?', 'Q4. How can genetic information be used to personalize dietary interventions for metabolic disorders?', 'Q5. What are the potential benefits and limitations of using dietary interventions to prevent metabolic disorders?']"
                ],
                [
                  "17",
                  "OBWCCE",
                  "A researcher in the field of nutrition and genetics, interested in developing personalized dietary recommendations for patients with metabolic disorders.",
                  "Exploring gene-diet interactions",
                  "['Q1. How do genetic variants interact with dietary factors to influence metabolic disorders?', 'Q2. What are the implications of gene-diet interactions for the development of personalized therapeutic strategies?', 'Q3. How can gene-diet interactions be used to tailor management options for individuals with metabolic disorders?', 'Q4. What are the challenges in studying gene-diet interactions in metabolic disorders?', 'Q5. How can future research improve our understanding of gene-diet interactions in metabolic disorders?']"
                ],
                [
                  "18",
                  "OBWCCE",
                  "A researcher in the field of nutrition and genetics, interested in developing personalized dietary recommendations for patients with metabolic disorders.",
                  "Identifying areas for future research",
                  "['Q1. What are the key areas for future research in understanding metabolic disorders?', 'Q2. How can larger and well-powered studies improve our understanding of metabolic disorders?', 'Q3. What is the importance of consistency and rigor in genetic and epidemiological analyses?', 'Q4. How can future studies investigate the role of gene-diet interactions in metabolic disorders?', 'Q5. What are the potential benefits and challenges of using gene-diet interactions to develop personalized therapeutic strategies?']"
                ],
                [
                  "19",
                  "OBWCCE",
                  "A clinician working in the field of endocrinology, interested in staying up-to-date with the latest research on metabolic disorders.",
                  "Developing personalized therapeutic strategies",
                  "['Q1. How can the insights gained from this corpus inform the development of personalized therapeutic strategies?', 'Q2. What are the potential benefits and limitations of using genetic information to develop personalized therapeutic strategies?', \"Q3. How can dietary interventions be tailored to an individual's genetic profile?\", 'Q4. What are the challenges in developing effective personalized therapeutic strategies for metabolic disorders?', 'Q5. How can future research improve our understanding of the complex relationships between genetics, diet, and metabolic disorders?']"
                ],
                [
                  "20",
                  "OBWCCE",
                  "A clinician working in the field of endocrinology, interested in staying up-to-date with the latest research on metabolic disorders.",
                  "Understanding the current state of research on metabolic disorders",
                  "['Q1. What are the key findings from recent research on metabolic disorders?', 'Q2. How have our understanding of metabolic disorders changed in recent years?', 'Q3. What are the implications of current research for clinical practice?', 'Q4. What are the limitations of current research in understanding metabolic disorders?', 'Q5. How can clinicians stay up-to-date with the latest research on metabolic disorders?']"
                ],
                [
                  "21",
                  "OBWCCE",
                  "A clinician working in the field of endocrinology, interested in staying up-to-date with the latest research on metabolic disorders.",
                  "Applying research findings to clinical practice",
                  "['Q1. How can research findings on metabolic disorders be applied to clinical practice?', 'Q2. What are the challenges in translating research findings into clinical practice?', 'Q3. How can clinicians use genetic information to inform treatment decisions?', 'Q4. What are the potential benefits and limitations of using dietary interventions in clinical practice?', 'Q5. How can clinicians work with patients to develop personalized treatment plans?']"
                ],
                [
                  "22",
                  "OBWCCE",
                  "A clinician working in the field of endocrinology, interested in staying up-to-date with the latest research on metabolic disorders.",
                  "Investigating the role of genetics in metabolic disorders",
                  "['Q1. What is the role of genetics in the development and progression of metabolic disorders?', 'Q2. How can genetic information be used to inform treatment decisions?', 'Q3. What are the implications of genetic variability for clinical practice?', 'Q4. How can clinicians use genetic testing to identify individuals at risk of metabolic disorders?', 'Q5. What are the limitations of current genetic research in understanding metabolic disorders?']"
                ],
                [
                  "23",
                  "OBWCCE",
                  "A clinician working in the field of endocrinology, interested in staying up-to-date with the latest research on metabolic disorders.",
                  "Exploring the potential for personalized medicine",
                  "['Q1. What is the potential for personalized medicine in the prevention and treatment of metabolic disorders?', 'Q2. How can genetic information be used to develop personalized therapeutic strategies?', 'Q3. What are the challenges in developing effective personalized therapeutic strategies?', 'Q4. How can clinicians work with patients to develop personalized treatment plans?', 'Q5. What are the potential benefits and limitations of using personalized medicine in clinical practice?']"
                ],
                [
                  "24",
                  "OBWCCE",
                  "A patient with a family history of metabolic disorders, interested in understanding their risk and developing a prevention plan.",
                  "Identifying areas for future research",
                  "['Q1. What are the key areas for future research in understanding metabolic disorders?', 'Q2. How can future studies improve our understanding of the complex relationships between genetics, diet, and metabolic disorders?', 'Q3. What are the implications of current research for future studies?', 'Q4. How can clinicians contribute to future research on metabolic disorders?', 'Q5. What are the potential benefits and challenges of using gene-diet interactions to develop personalized therapeutic strategies?']"
                ],
                [
                  "25",
                  "OBWCCE",
                  "A patient with a family history of metabolic disorders, interested in understanding their risk and developing a prevention plan.",
                  "Understanding personal risk",
                  "['Q1. What is my risk of developing a metabolic disorder based on my family history?', 'Q2. How can I use genetic information to understand my risk?', 'Q3. What are the implications of genetic variability for my risk?', 'Q4. How can I use dietary interventions to reduce my risk?', 'Q5. What are the limitations of current research in understanding metabolic disorders?']"
                ],
                [
                  "26",
                  "OBWCCE",
                  "A patient with a family history of metabolic disorders, interested in understanding their risk and developing a prevention plan.",
                  "Developing a prevention plan",
                  "['Q1. What are the key components of a prevention plan for metabolic disorders?', 'Q2. How can I use genetic information to inform my prevention plan?', 'Q3. What are the potential benefits and limitations of using dietary interventions in prevention?', 'Q4. How can I work with my healthcare provider to develop a personalized prevention plan?', 'Q5. What are the challenges in developing an effective prevention plan?']"
                ],
                [
                  "27",
                  "OBWCCE",
                  "A patient with a family history of metabolic disorders, interested in understanding their risk and developing a prevention plan.",
                  "Exploring the role of genetics in metabolic disorders",
                  "['Q1. What is the role of genetics in the development and progression of metabolic disorders?', 'Q2. How can genetic information be used to inform my prevention plan?', 'Q3. What are the implications of genetic variability for my risk?', 'Q4. How can I use genetic testing to identify my risk?', 'Q5. What are the limitations of current genetic research in understanding metabolic disorders?']"
                ],
                [
                  "28",
                  "OBWCCE",
                  "A patient with a family history of metabolic disorders, interested in understanding their risk and developing a prevention plan.",
                  "Investigating the role of diet in metabolic disorders",
                  "['Q1. What is the relationship between dietary factors and the development of metabolic disorders?', 'Q2. How can I use dietary interventions to reduce my risk?', 'Q3. What are the challenges in developing effective dietary recommendations?', 'Q4. How can I work with a registered dietitian to develop a personalized dietary plan?', 'Q5. What are the potential benefits and limitations of using dietary interventions in prevention?']"
                ],
                [
                  "29",
                  "OBWCCE",
                  "A patient with a family history of metabolic disorders, interested in understanding their risk and developing a prevention plan.",
                  "Monitoring and managing metabolic health",
                  "['Q1. How can I monitor my metabolic health over time?', 'Q2. What are the key indicators of metabolic health?', 'Q3. How can I use genetic information to inform my treatment plan?', 'Q4. What are the potential benefits and limitations of using personalized medicine in managing metabolic health?', 'Q5. How can I work with my healthcare provider to develop a personalized treatment plan?']"
                ],
                [
                  "30",
                  "EATBTS",
                  "A healthcare researcher interested in exploring the role of genetics in disease prevention.",
                  "Investigating the relationship between genetic factors and disease susceptibility",
                  "[\"Q1. How do genetic variations influence an individual's risk of developing chronic diseases?\", 'Q2. What are the implications of genetic testing for disease prevention and management?', 'Q3. How can genetic information be used to tailor disease prevention strategies?', 'Q4. What are the limitations of relying solely on genetic information for disease prevention?', 'Q5. How can genetic research inform the development of personalized medicine approaches?']"
                ],
                [
                  "31",
                  "EATBTS",
                  "A healthcare researcher interested in exploring the role of genetics in disease prevention.",
                  "Analyzing the impact of nutrition on disease management",
                  "['Q1. What are the key nutritional factors that influence disease progression and management?', 'Q2. How do different dietary patterns affect disease risk and outcomes?', 'Q3. What are the implications of nutritional deficiencies on disease susceptibility?', 'Q4. How can nutrition be used as a therapeutic tool in disease management?', 'Q5. What are the challenges in developing personalized nutrition plans for disease management?']"
                ],
                [
                  "32",
                  "EATBTS",
                  "A healthcare researcher interested in exploring the role of genetics in disease prevention.",
                  "Exploring the interplay between genetics, nutrition, and lifestyle choices",
                  "['Q1. How do genetic factors interact with nutritional and lifestyle factors to influence disease risk?', 'Q2. What are the implications of lifestyle choices on gene expression and disease susceptibility?', \"Q3. How can lifestyle interventions be tailored to an individual's genetic profile?\", 'Q4. What are the limitations of current research on the interplay between genetics, nutrition, and lifestyle choices?', 'Q5. How can future research better elucidate the relationships between these factors?']"
                ],
                [
                  "33",
                  "EATBTS",
                  "A healthcare researcher interested in exploring the role of genetics in disease prevention.",
                  "Investigating the role of epigenetics in disease prevention",
                  "['Q1. What are the key epigenetic mechanisms underlying disease susceptibility and progression?', 'Q2. How do environmental factors, such as nutrition and lifestyle choices, influence epigenetic marks?', 'Q3. What are the implications of epigenetic research for disease prevention and management?', 'Q4. How can epigenetic information be used to develop personalized disease prevention strategies?', 'Q5. What are the challenges in translating epigenetic research into clinical practice?']"
                ],
                [
                  "34",
                  "EATBTS",
                  "A registered dietitian interested in developing evidence-based nutrition recommendations for patients.",
                  "Developing personalized medicine approaches",
                  "['Q1. What are the key components of a personalized medicine approach to disease prevention and management?', 'Q2. How can genetic, nutritional, and lifestyle factors be integrated into personalized medicine approaches?', 'Q3. What are the implications of personalized medicine for healthcare systems and policy?', 'Q4. What are the challenges in implementing personalized medicine approaches in clinical practice?', 'Q5. How can future research improve the effectiveness of personalized medicine approaches?']"
                ],
                [
                  "35",
                  "EATBTS",
                  "A registered dietitian interested in developing evidence-based nutrition recommendations for patients.",
                  "Creating personalized nutrition plans for patients with chronic diseases",
                  "['Q1. What are the key nutritional factors that influence disease progression and management?', 'Q2. How can genetic information be used to tailor nutrition recommendations?', 'Q3. What are the implications of nutritional deficiencies on disease susceptibility?', 'Q4. How can nutrition be used as a therapeutic tool in disease management?', 'Q5. What are the challenges in developing personalized nutrition plans for patients with complex medical histories?']"
                ],
                [
                  "36",
                  "EATBTS",
                  "A registered dietitian interested in developing evidence-based nutrition recommendations for patients.",
                  "Investigating the role of nutrition in disease prevention",
                  "['Q1. What are the key nutritional factors that influence disease risk and outcomes?', 'Q2. How do different dietary patterns affect disease risk and outcomes?', 'Q3. What are the implications of nutritional interventions for disease prevention?', 'Q4. How can nutrition education be used to promote healthy behaviors?', 'Q5. What are the challenges in translating nutrition research into practice?']"
                ],
                [
                  "37",
                  "EATBTS",
                  "A registered dietitian interested in developing evidence-based nutrition recommendations for patients.",
                  "Analyzing the relationship between nutrition and genetic factors",
                  "[\"Q1. How do genetic variations influence an individual's nutritional needs and responses?\", 'Q2. What are the implications of genetic testing for nutrition counseling?', 'Q3. How can genetic information be used to tailor nutrition recommendations?', 'Q4. What are the limitations of relying solely on genetic information for nutrition counseling?', 'Q5. How can nutrition research inform the development of personalized medicine approaches?']"
                ],
                [
                  "38",
                  "EATBTS",
                  "A registered dietitian interested in developing evidence-based nutrition recommendations for patients.",
                  "Developing nutrition interventions for diverse populations",
                  "['Q1. What are the key nutritional challenges facing diverse populations?', 'Q2. How can nutrition interventions be tailored to meet the needs of diverse populations?', 'Q3. What are the implications of cultural and socioeconomic factors on nutrition behaviors?', 'Q4. How can nutrition education be used to promote healthy behaviors in diverse populations?', 'Q5. What are the challenges in evaluating the effectiveness of nutrition interventions?']"
                ],
                [
                  "39",
                  "EATBTS",
                  "A healthcare policy maker interested in developing evidence-based policies for disease prevention and management.",
                  "Investigating the role of nutrition in mental health",
                  "['Q1. What are the key nutritional factors that influence mental health outcomes?', 'Q2. How do different dietary patterns affect mental health risk and outcomes?', 'Q3. What are the implications of nutritional interventions for mental health?', 'Q4. How can nutrition be used as a therapeutic tool in mental health treatment?', 'Q5. What are the challenges in translating nutrition research into mental health practice?']"
                ],
                [
                  "40",
                  "EATBTS",
                  "A healthcare policy maker interested in developing evidence-based policies for disease prevention and management.",
                  "Developing policies for disease prevention and management",
                  "['Q1. What are the key factors that influence disease risk and outcomes at the population level?', 'Q2. How can policy interventions be used to promote healthy behaviors?', 'Q3. What are the implications of genetic, nutritional, and lifestyle factors for healthcare policy?', 'Q4. How can policy makers balance individual and population-level approaches to disease prevention?', 'Q5. What are the challenges in evaluating the effectiveness of policy interventions?']"
                ],
                [
                  "41",
                  "EATBTS",
                  "A healthcare policy maker interested in developing evidence-based policies for disease prevention and management.",
                  "Investigating the economic implications of disease prevention and management",
                  "['Q1. What are the economic burdens of chronic diseases on healthcare systems?', 'Q2. How can disease prevention and management strategies reduce healthcare costs?', 'Q3. What are the implications of genetic, nutritional, and lifestyle factors for healthcare costs?', 'Q4. How can policy makers prioritize investments in disease prevention and management?', 'Q5. What are the challenges in evaluating the cost-effectiveness of disease prevention and management strategies?']"
                ],
                [
                  "42",
                  "EATBTS",
                  "A healthcare policy maker interested in developing evidence-based policies for disease prevention and management.",
                  "Analyzing the role of healthcare systems in disease prevention and management",
                  "['Q1. What are the key components of healthcare systems that influence disease prevention and management?', 'Q2. How can healthcare systems be reoriented to prioritize prevention and management?', 'Q3. What are the implications of genetic, nutritional, and lifestyle factors for healthcare delivery?', 'Q4. How can healthcare providers be trained to address the complex needs of patients?', 'Q5. What are the challenges in implementing evidence-based practices in healthcare systems?']"
                ],
                [
                  "43",
                  "EATBTS",
                  "A healthcare policy maker interested in developing evidence-based policies for disease prevention and management.",
                  "Exploring the relationship between healthcare policy and public health",
                  "['Q1. What are the key factors that influence public health outcomes at the population level?', 'Q2. How can policy interventions be used to promote public health?', 'Q3. What are the implications of genetic, nutritional, and lifestyle factors for public health policy?', 'Q4. How can policy makers balance individual and population-level approaches to public health?', 'Q5. What are the challenges in evaluating the effectiveness of public health policy interventions?']"
                ],
                [
                  "44",
                  "EATBTS",
                  "A healthcare policy maker interested in developing evidence-based policies for disease prevention and management.",
                  "Investigating the role of technology in disease prevention and management",
                  "['Q1. What are the key technologies that can be used to support disease prevention and management?', 'Q2. How can technology be used to promote healthy behaviors and improve health outcomes?', 'Q3. What are the implications of genetic, nutritional, and lifestyle factors for the development of health technologies?', 'Q4. How can technology be used to support personalized medicine approaches?', 'Q5. What are the challenges in evaluating the effectiveness of health technologies?']"
                ],
                [
                  "45",
                  "VITMIN",
                  "A researcher in genetics and molecular biology seeking to understand the genetic basis of disease susceptibility.",
                  "Investigating the role of vitamin D signaling pathways in disease susceptibility",
                  "['Q1. How do genetic variations in vitamin D signaling pathways contribute to disease susceptibility?', 'Q2. What are the key challenges in identifying genetic variants associated with disease susceptibility?', 'Q3. How do environmental factors interact with genetic variations to influence disease risk?', 'Q4. What are the implications of genetic association studies for clinical applications?', 'Q5. How can the findings from genetic association studies inform future research directions?']"
                ],
                [
                  "46",
                  "VITMIN",
                  "A researcher in genetics and molecular biology seeking to understand the genetic basis of disease susceptibility.",
                  "Analyzing the relationship between genetic variations and disease susceptibility",
                  "['Q1. What are the common genetic variants associated with disease susceptibility?', 'Q2. How do genetic variations affect the function of vitamin D signaling pathways?', 'Q3. What are the limitations of genetic association studies in identifying disease-susceptibility variants?', 'Q4. How can genetic variations be used to predict disease risk?', 'Q5. What are the potential therapeutic applications of targeting vitamin D signaling pathways?']"
                ],
                [
                  "47",
                  "VITMIN",
                  "A researcher in genetics and molecular biology seeking to understand the genetic basis of disease susceptibility.",
                  "Exploring the complexity of disease susceptibility",
                  "['Q1. What are the multiple genetic and environmental factors that contribute to disease risk?', 'Q2. How do genetic variations interact with environmental factors to influence disease susceptibility?', 'Q3. What are the challenges in understanding the complex relationships between genetic variations, environmental factors, and disease susceptibility?', 'Q4. How can the corpus be used to identify potential therapeutic targets for disease treatment?', 'Q5. What are the implications of the corpus for personalized medicine?']"
                ],
                [
                  "48",
                  "VITMIN",
                  "A researcher in genetics and molecular biology seeking to understand the genetic basis of disease susceptibility.",
                  "Evaluating the role of genetic association studies in disease susceptibility",
                  "['Q1. What are the strengths and limitations of genetic association studies?', 'Q2. How can genetic association studies be used to identify disease-susceptibility variants?', 'Q3. What are the challenges in replicating genetic association studies?', 'Q4. How can genetic association studies inform clinical decision-making?', 'Q5. What are the future directions for genetic association studies in disease susceptibility?']"
                ],
                [
                  "49",
                  "VITMIN",
                  "A clinician seeking to understand the genetic basis of disease susceptibility in patients.",
                  "Applying the corpus to clinical practice",
                  "['Q1. How can the corpus be used to inform clinical decision-making?', 'Q2. What are the potential applications of the corpus in personalized medicine?', 'Q3. How can the corpus be used to identify potential therapeutic targets?', 'Q4. What are the challenges in translating the corpus into clinical practice?', 'Q5. What are the implications of the corpus for public health policy?']"
                ]
              ],
              "shape": {
                "columns": 4,
                "rows": 75
              }
            },
            "text/html": [
              "<div>\n",
              "<style scoped>\n",
              "    .dataframe tbody tr th:only-of-type {\n",
              "        vertical-align: middle;\n",
              "    }\n",
              "\n",
              "    .dataframe tbody tr th {\n",
              "        vertical-align: top;\n",
              "    }\n",
              "\n",
              "    .dataframe thead th {\n",
              "        text-align: right;\n",
              "    }\n",
              "</style>\n",
              "<table border=\"1\" class=\"dataframe\">\n",
              "  <thead>\n",
              "    <tr style=\"text-align: right;\">\n",
              "      <th></th>\n",
              "      <th>Category</th>\n",
              "      <th>USER Description</th>\n",
              "      <th>TASK Description</th>\n",
              "      <th>Questions</th>\n",
              "    </tr>\n",
              "  </thead>\n",
              "  <tbody>\n",
              "    <tr>\n",
              "      <th>0</th>\n",
              "      <td>FOODAL</td>\n",
              "      <td>A clinical researcher interested in vaccine de...</td>\n",
              "      <td>Designing a new vaccine trial</td>\n",
              "      <td>[Q1. What are the key genetic and immunologica...</td>\n",
              "    </tr>\n",
              "    <tr>\n",
              "      <th>1</th>\n",
              "      <td>FOODAL</td>\n",
              "      <td>A clinical researcher interested in vaccine de...</td>\n",
              "      <td>Analyzing genetic data from a new study</td>\n",
              "      <td>[Q1. How do the genetic associations with dise...</td>\n",
              "    </tr>\n",
              "    <tr>\n",
              "      <th>2</th>\n",
              "      <td>FOODAL</td>\n",
              "      <td>A clinical researcher interested in vaccine de...</td>\n",
              "      <td>Developing a new therapeutic approach</td>\n",
              "      <td>[Q1. What are the key insights from the corpus...</td>\n",
              "    </tr>\n",
              "    <tr>\n",
              "      <th>3</th>\n",
              "      <td>FOODAL</td>\n",
              "      <td>A clinical researcher interested in vaccine de...</td>\n",
              "      <td>Communicating with patients about genetic risks</td>\n",
              "      <td>[Q1. How can I effectively communicate genetic...</td>\n",
              "    </tr>\n",
              "    <tr>\n",
              "      <th>4</th>\n",
              "      <td>FOODAL</td>\n",
              "      <td>A genetic epidemiologist interested in underst...</td>\n",
              "      <td>Identifying research gaps</td>\n",
              "      <td>[Q1. What are the key research gaps in our und...</td>\n",
              "    </tr>\n",
              "    <tr>\n",
              "      <th>...</th>\n",
              "      <td>...</td>\n",
              "      <td>...</td>\n",
              "      <td>...</td>\n",
              "      <td>...</td>\n",
              "    </tr>\n",
              "    <tr>\n",
              "      <th>70</th>\n",
              "      <td>FOODIN</td>\n",
              "      <td>A bioinformatics specialist analyzing large ge...</td>\n",
              "      <td>Analyzing large genetic datasets to identify d...</td>\n",
              "      <td>[Q1. How can bioinformatics tools be used to a...</td>\n",
              "    </tr>\n",
              "    <tr>\n",
              "      <th>71</th>\n",
              "      <td>FOODIN</td>\n",
              "      <td>A bioinformatics specialist analyzing large ge...</td>\n",
              "      <td>Investigating the genetic basis of disease usi...</td>\n",
              "      <td>[Q1. How can machine learning techniques be us...</td>\n",
              "    </tr>\n",
              "    <tr>\n",
              "      <th>72</th>\n",
              "      <td>FOODIN</td>\n",
              "      <td>A bioinformatics specialist analyzing large ge...</td>\n",
              "      <td>Exploring the genetic basis of complex diseases.</td>\n",
              "      <td>[Q1. How do genetic variants contribute to com...</td>\n",
              "    </tr>\n",
              "    <tr>\n",
              "      <th>73</th>\n",
              "      <td>FOODIN</td>\n",
              "      <td>A bioinformatics specialist analyzing large ge...</td>\n",
              "      <td>Developing computational tools for genetic ana...</td>\n",
              "      <td>[Q1. How can computational tools be used to an...</td>\n",
              "    </tr>\n",
              "    <tr>\n",
              "      <th>74</th>\n",
              "      <td>FOODIN</td>\n",
              "      <td>A bioinformatics specialist analyzing large ge...</td>\n",
              "      <td>Investigating the genetic basis of rare diseases.</td>\n",
              "      <td>[Q1. How do genetic variants contribute to rar...</td>\n",
              "    </tr>\n",
              "  </tbody>\n",
              "</table>\n",
              "<p>75 rows × 4 columns</p>\n",
              "</div>"
            ],
            "text/plain": [
              "   Category                                   USER Description  \\\n",
              "0    FOODAL  A clinical researcher interested in vaccine de...   \n",
              "1    FOODAL  A clinical researcher interested in vaccine de...   \n",
              "2    FOODAL  A clinical researcher interested in vaccine de...   \n",
              "3    FOODAL  A clinical researcher interested in vaccine de...   \n",
              "4    FOODAL  A genetic epidemiologist interested in underst...   \n",
              "..      ...                                                ...   \n",
              "70   FOODIN  A bioinformatics specialist analyzing large ge...   \n",
              "71   FOODIN  A bioinformatics specialist analyzing large ge...   \n",
              "72   FOODIN  A bioinformatics specialist analyzing large ge...   \n",
              "73   FOODIN  A bioinformatics specialist analyzing large ge...   \n",
              "74   FOODIN  A bioinformatics specialist analyzing large ge...   \n",
              "\n",
              "                                     TASK Description  \\\n",
              "0                       Designing a new vaccine trial   \n",
              "1             Analyzing genetic data from a new study   \n",
              "2               Developing a new therapeutic approach   \n",
              "3     Communicating with patients about genetic risks   \n",
              "4                           Identifying research gaps   \n",
              "..                                                ...   \n",
              "70  Analyzing large genetic datasets to identify d...   \n",
              "71  Investigating the genetic basis of disease usi...   \n",
              "72   Exploring the genetic basis of complex diseases.   \n",
              "73  Developing computational tools for genetic ana...   \n",
              "74  Investigating the genetic basis of rare diseases.   \n",
              "\n",
              "                                            Questions  \n",
              "0   [Q1. What are the key genetic and immunologica...  \n",
              "1   [Q1. How do the genetic associations with dise...  \n",
              "2   [Q1. What are the key insights from the corpus...  \n",
              "3   [Q1. How can I effectively communicate genetic...  \n",
              "4   [Q1. What are the key research gaps in our und...  \n",
              "..                                                ...  \n",
              "70  [Q1. How can bioinformatics tools be used to a...  \n",
              "71  [Q1. How can machine learning techniques be us...  \n",
              "72  [Q1. How do genetic variants contribute to com...  \n",
              "73  [Q1. How can computational tools be used to an...  \n",
              "74  [Q1. How do genetic variants contribute to rar...  \n",
              "\n",
              "[75 rows x 4 columns]"
            ]
          },
          "execution_count": 44,
          "metadata": {},
          "output_type": "execute_result"
        }
      ],
      "source": [
        "\n",
        "df_combined.to_pickle(\"questions_dataframe.pkl\")\n",
        "df_combined"
      ]
    },
    {
      "cell_type": "code",
      "execution_count": 43,
      "metadata": {
        "id": "gDz9WfO9Xo3Q"
      },
      "outputs": [
        {
          "name": "stdout",
          "output_type": "stream",
          "text": [
            "A clinical researcher interested in vaccine development and personalized medicine. \n",
            "------\n",
            "A genetic epidemiologist interested in understanding the complex interactions between genetic and environmental factors. \n",
            "------\n",
            "A toxicologist interested in understanding the impact of environmental toxins on human health. \n",
            "------\n",
            "A researcher in the field of nutrition and genetics, interested in developing personalized dietary recommendations for patients with metabolic disorders. \n",
            "------\n",
            "A clinician working in the field of endocrinology, interested in staying up-to-date with the latest research on metabolic disorders. \n",
            "------\n",
            "A patient with a family history of metabolic disorders, interested in understanding their risk and developing a prevention plan. \n",
            "------\n",
            "A healthcare researcher interested in exploring the role of genetics in disease prevention. \n",
            "------\n",
            "A registered dietitian interested in developing evidence-based nutrition recommendations for patients. \n",
            "------\n",
            "A healthcare policy maker interested in developing evidence-based policies for disease prevention and management. \n",
            "------\n",
            "A researcher in genetics and molecular biology seeking to understand the genetic basis of disease susceptibility. \n",
            "------\n",
            "A clinician seeking to understand the genetic basis of disease susceptibility in patients. \n",
            "------\n",
            "A bioinformatician seeking to analyze the genetic data from the corpus. \n",
            "------\n",
            "A genetic researcher investigating the molecular basis of rare diseases. \n",
            "------\n",
            "A clinician seeking to apply genetic insights to improve patient care. \n",
            "------\n",
            "A bioinformatics specialist analyzing large genetic datasets. \n",
            "------\n"
          ]
        }
      ],
      "source": [
        "for desc in df_combined['USER Description'].drop_duplicates():\n",
        "    print(desc,\"\\n------\")"
      ]
    },
    {
      "cell_type": "code",
      "execution_count": null,
      "metadata": {},
      "outputs": [],
      "source": []
    }
  ],
  "metadata": {
    "colab": {
      "provenance": []
    },
    "kernelspec": {
      "display_name": "base",
      "language": "python",
      "name": "python3"
    },
    "language_info": {
      "codemirror_mode": {
        "name": "ipython",
        "version": 3
      },
      "file_extension": ".py",
      "mimetype": "text/x-python",
      "name": "python",
      "nbconvert_exporter": "python",
      "pygments_lexer": "ipython3",
      "version": "3.12.9"
    }
  },
  "nbformat": 4,
  "nbformat_minor": 0
}
